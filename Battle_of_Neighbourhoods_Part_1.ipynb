{
 "cells": [
  {
   "cell_type": "markdown",
   "metadata": {
    "collapsed": true
   },
   "source": [
    "<h1>Capstone Project - The Battle of Neighbourhoods</h1>"
   ]
  },
  {
   "cell_type": "markdown",
   "metadata": {},
   "source": [
    "<h2>Introduction to Business Problem</h2>"
   ]
  },
  {
   "cell_type": "markdown",
   "metadata": {},
   "source": [
    "<h2>\"Which locality of all the cities in United States would be the best place to start a Gaming Arcade?\"</h2>"
   ]
  },
  {
   "cell_type": "markdown",
   "metadata": {},
   "source": [
    "<p><big>My Manager Mr Maheshwari is interested in starting a gaming cloister in the best locality of all the cities in United states. He defines a best locatlity based on the following constraints,</big></p>"
   ]
  },
  {
   "cell_type": "markdown",
   "metadata": {},
   "source": [
    "<ul>\n",
    "   <li><p><big>Population density of a locality</big></p></li>\n",
    "   <li><p><bigt>Per Capital income</big></p></li>\n",
    "    <li><p><big>Population of each location</big></p></li>\n",
    "    <li><p><big>Venues in each locality</big></p></li>\n",
    "</ul>    "
   ]
  },
  {
   "cell_type": "markdown",
   "metadata": {},
   "source": [
    "<p><big>The category of the venues that he's interested in are,</big></p>"
   ]
  },
  {
   "cell_type": "markdown",
   "metadata": {},
   "source": [
    "<ul>\n",
    "   <li><p><big>Arts and Entertainment</big></p></li>\n",
    "   <li><p><big>Shops & Service</big></p></li>\n",
    "    <li><p><big>College and University</big></p></li>\n",
    "    <li><p><big>Event</big></p></li>\n",
    "    <li><p><big>Food</big></p></li>\n",
    "    <li><p><big>College and Nightife Spot</big></p></li>\n",
    "    <li><p><big>Outdoors & Recreation</big></p></li>\n",
    "    <li><p><big>Professional & Other places</big></p></li>\n",
    "    <li><p><big>Residence</big></p></li>\n",
    "    <li><p><big>Travel & Transport</big></p></li>\n",
    "</ul> "
   ]
  },
  {
   "cell_type": "code",
   "execution_count": null,
   "metadata": {},
   "outputs": [],
   "source": []
  }
 ],
 "metadata": {
  "kernelspec": {
   "display_name": "Python 3.6",
   "language": "python",
   "name": "python3"
  },
  "language_info": {
   "codemirror_mode": {
    "name": "ipython",
    "version": 3
   },
   "file_extension": ".py",
   "mimetype": "text/x-python",
   "name": "python",
   "nbconvert_exporter": "python",
   "pygments_lexer": "ipython3",
   "version": "3.6.8"
  }
 },
 "nbformat": 4,
 "nbformat_minor": 1
}
